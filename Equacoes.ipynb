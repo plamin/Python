{
 "cells": [
  {
   "cell_type": "code",
   "execution_count": null,
   "metadata": {},
   "outputs": [],
   "source": [
    "# Calcular equações\n",
    "\n",
    "# prim_eq = 10x^2 + 2x - 2\n",
    "# segund_eq = 5x^2 + 3y + 5\n",
    "# terc_eq = 10x^2 + 4y^2 - 2z^2\n",
    "\n",
    "x = float(input('Digite o X'))\n",
    "y = float(input('Digite o Y'))\n",
    "z = float(input('Digite o Z'))\n",
    "\n",
    "print(f'Primeira equação = {10*(x**2)+2*x-2}')\n",
    "print(f'Segunda equação = {5*(x**2)+3*y+5}')\n",
    "print(f'Terceira equação = {10*(x**2)+4*(y**2)-2*(z**2)}')\n",
    "\n"
   ]
  },
  {
   "cell_type": "code",
   "execution_count": null,
   "metadata": {},
   "outputs": [],
   "source": [
    "# Estrutura de entrada\n",
    "\n",
    "var_a = float(input('Digite o A'))\n",
    "var_b = float(input('Digite o B'))\n",
    "\n",
    "# Estrutura de saída\n",
    "\n",
    "print(f'Valor da Variável a é {var_a}')\n",
    "print(f'Valor da Variável b é {var_b}')\n",
    "\n",
    "# Condição\n",
    "\n",
    "if var_a > var_b:\n",
    "    print('variável a é maior')\n",
    "elif var_a == var_b:\n",
    "    print('São iguais')\n",
    "else:\n",
    "    print('variável b é maior')"
   ]
  },
  {
   "cell_type": "code",
   "execution_count": 7,
   "metadata": {},
   "outputs": [
    {
     "name": "stdout",
     "output_type": "stream",
     "text": [
      "x\n",
      "[1, 2]\n"
     ]
    }
   ],
   "source": [
    "import sympy as sp\n",
    "\n",
    "x = sp.symbols('x')\n",
    "print(x)\n",
    "\n",
    "a = 1\n",
    "b = -3\n",
    "c = 2\n",
    "\n",
    "equacao = a*x**2 + b*x + c\n",
    "\n",
    "solucoes = sp.solve(equacao, x)\n",
    "print(solucoes)"
   ]
  },
  {
   "cell_type": "code",
   "execution_count": null,
   "metadata": {},
   "outputs": [],
   "source": [
    "from sympy import *\n",
    "x = Symbol('x')"
   ]
  },
  {
   "cell_type": "code",
   "execution_count": 19,
   "metadata": {},
   "outputs": [
    {
     "data": {
      "text/latex": [
       "$\\displaystyle x^{3} + \\sin{\\left(x \\right)}$"
      ],
      "text/plain": [
       "x**3 + sin(x)"
      ]
     },
     "execution_count": 19,
     "metadata": {},
     "output_type": "execute_result"
    }
   ],
   "source": [
    "x**3 + sin(x)"
   ]
  },
  {
   "cell_type": "code",
   "execution_count": 20,
   "metadata": {},
   "outputs": [
    {
     "data": {
      "text/latex": [
       "$\\displaystyle 2 x + \\cos{\\left(x \\right)}$"
      ],
      "text/plain": [
       "2*x + cos(x)"
      ]
     },
     "execution_count": 20,
     "metadata": {},
     "output_type": "execute_result"
    }
   ],
   "source": [
    "(x**2 + sin(x)).diff(x)"
   ]
  }
 ],
 "metadata": {
  "kernelspec": {
   "display_name": "Python 3",
   "language": "python",
   "name": "python3"
  },
  "language_info": {
   "codemirror_mode": {
    "name": "ipython",
    "version": 3
   },
   "file_extension": ".py",
   "mimetype": "text/x-python",
   "name": "python",
   "nbconvert_exporter": "python",
   "pygments_lexer": "ipython3",
   "version": "3.12.3"
  }
 },
 "nbformat": 4,
 "nbformat_minor": 2
}
