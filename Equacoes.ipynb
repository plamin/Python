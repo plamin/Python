{
 "cells": [
  {
   "cell_type": "code",
   "execution_count": null,
   "metadata": {},
   "outputs": [],
   "source": [
    "# Calcular equações\n",
    "\n",
    "# prim_eq = 10x^2 + 2x - 2\n",
    "# segund_eq = 5x^2 + 3y + 5\n",
    "# terc_eq = 10x^2 + 4y^2 - 2z^2\n",
    "\n",
    "x = float(input('Digite o X'))\n",
    "y = float(input('Digite o Y'))\n",
    "z = float(input('Digite o Z'))\n",
    "\n",
    "print(f'Primeira equação = {10*(x**2)+2*x-2}')\n",
    "print(f'Segunda equação = {5*(x**2)+3*y+5}')\n",
    "print(f'Terceira equação = {10*(x**2)+4*(y**2)-2*(z**2)}')\n",
    "\n"
   ]
  },
  {
   "cell_type": "code",
   "execution_count": null,
   "metadata": {},
   "outputs": [],
   "source": [
    "# Estrutura de entrada\n",
    "\n",
    "var_a = float(input('Digite o A'))\n",
    "var_b = float(input('Digite o B'))\n",
    "\n",
    "# Estrutura de saída\n",
    "\n",
    "print(f'Valor da Variável a é {var_a}')\n",
    "print(f'Valor da Variável b é {var_b}')\n",
    "\n",
    "# Condição\n",
    "\n",
    "if var_a > var_b:\n",
    "    print('variável a é maior')\n",
    "elif var_a == var_b:\n",
    "    print('São iguais')\n",
    "else:\n",
    "    print('variável b é maior')"
   ]
  },
  {
   "cell_type": "code",
   "execution_count": 7,
   "metadata": {},
   "outputs": [
    {
     "name": "stdout",
     "output_type": "stream",
     "text": [
      "x\n",
      "[1, 2]\n"
     ]
    }
   ],
   "source": [
    "import sympy as sp\n",
    "\n",
    "x = sp.symbols('x')\n",
    "print(x)\n",
    "\n",
    "a = 1\n",
    "b = -3\n",
    "c = 2\n",
    "\n",
    "equacao = a*x**2 + b*x + c\n",
    "\n",
    "solucoes = sp.solve(equacao, x)\n",
    "print(solucoes)"
   ]
  },
  {
   "cell_type": "code",
   "execution_count": null,
   "metadata": {},
   "outputs": [],
   "source": [
    "from sympy import *"
   ]
  },
  {
   "cell_type": "code",
   "execution_count": 50,
   "metadata": {},
   "outputs": [
    {
     "name": "stdout",
     "output_type": "stream",
     "text": [
      "Primeira equação = 60.0\n",
      "Segunda equação = 20.0\n",
      "Terceira equação = -13.0\n",
      "Quarta equação = True\n",
      "Quinta equação = True\n",
      "Sexta equação = False\n"
     ]
    }
   ],
   "source": [
    "# Equações\n",
    "\n",
    "a = float(input('Digite o valor a: '))\n",
    "b = float(input('Digite o valor b: '))\n",
    "c = float(input('Digite o valor c: '))\n",
    "\n",
    "print(f'Primeira equação = {a + b + c}')\n",
    "print(f'Segunda equação = {a - b + c}')\n",
    "print(f'Terceira equação = {a**2 + 2*b - 5.1*c}')\n",
    "print(f'Quarta equação = {a + b == c}')\n",
    "print(f'Quinta equação = {c - a == b}')\n",
    "print(f'Sexta equação = {a + c == b - c}')\n"
   ]
  },
  {
   "cell_type": "code",
   "execution_count": 48,
   "metadata": {},
   "outputs": [
    {
     "name": "stdout",
     "output_type": "stream",
     "text": [
      "Impostos: 10% para R$2500, 15% para R$3500 e 25% para R$5000\n",
      "Imposto a ser pago: 250.0, salário a ser recebido: 2250.0\n",
      "Imposto a ser pago: 525.0, salário a ser recebido: 2975.0\n",
      "Imposto a ser pago: 1250.0, salário a ser recebido: 3750.0\n"
     ]
    }
   ],
   "source": [
    "# Cálculo de imposto de salário\n",
    "\n",
    "salario1 = 2500\n",
    "salario2 = 3500\n",
    "salario3 = 5000\n",
    "\n",
    "print('Impostos: 10% para R$2500, 15% para R$3500 e 25% para R$5000')\n",
    "\n",
    "print(f'Imposto a ser pago: {10/100*salario1}, salário a ser recebido: {salario1 - 10/100*salario1}')\n",
    "print(f'Imposto a ser pago: {15/100*salario2}, salário a ser recebido: {salario2 - 15/100*salario2}')\n",
    "print(f'Imposto a ser pago: {25/100*salario3}, salário a ser recebido: {salario3 - 25/100*salario3}')"
   ]
  },
  {
   "cell_type": "code",
   "execution_count": null,
   "metadata": {},
   "outputs": [
    {
     "name": "stdout",
     "output_type": "stream",
     "text": [
      "Informações do usuário 1: E-mail: pedro@fiap, senha: teste, Palavra-chave: pedro\n",
      "Informações do usuário 2: E-mail: lucas@fiap, senha: teste, Palavra-chave: lucas\n"
     ]
    }
   ],
   "source": [
    "# Informa os dados do usuário\n",
    "\n",
    "usuario1_email = input('Digite seu email: ')\n",
    "usuario1_senha = input('Digite sua senha: ')\n",
    "usuario1_keyw = input('Digite a palavra-chave: ')\n",
    "\n",
    "usuario2_email = input('Digite seu email: ')\n",
    "usuario2_senha = input('Digite sua senha: ')\n",
    "usuario2_keyw = input('Digite a palavra-chave: ')\n",
    "\n",
    "print(f'Informações do usuário 1: E-mail: {usuario1_email}, senha: {usuario1_senha}, Palavra-chave: {usuario1_keyw}')\n",
    "print(f'Informações do usuário 2: E-mail: {usuario2_email}, senha: {usuario2_senha}, Palavra-chave: {usuario2_keyw}')"
   ]
  }
 ],
 "metadata": {
  "kernelspec": {
   "display_name": "Python 3",
   "language": "python",
   "name": "python3"
  },
  "language_info": {
   "codemirror_mode": {
    "name": "ipython",
    "version": 3
   },
   "file_extension": ".py",
   "mimetype": "text/x-python",
   "name": "python",
   "nbconvert_exporter": "python",
   "pygments_lexer": "ipython3",
   "version": "3.12.3"
  }
 },
 "nbformat": 4,
 "nbformat_minor": 2
}
