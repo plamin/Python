{
 "cells": [
  {
   "cell_type": "code",
   "execution_count": null,
   "metadata": {},
   "outputs": [],
   "source": [
    "# Calcular equações\n",
    "\n",
    "# prim_eq = 10x^2 + 2x - 2\n",
    "# segund_eq = 5x^2 + 3y + 5\n",
    "# terc_eq = 10x^2 + 4y^2 - 2z^2\n",
    "\n",
    "x = float(input('Digite o X'))\n",
    "y = float(input('Digite o Y'))\n",
    "z = float(input('Digite o Z'))\n",
    "\n",
    "print(f'Primeira equação = {10*(x**2)+2*x-2}')\n",
    "print(f'Segunda equação = {5*(x**2)+3*y+5}')\n",
    "print(f'Terceira equação = {10*(x**2)+4*(y**2)-2*(z**2)}')\n",
    "\n"
   ]
  },
  {
   "cell_type": "code",
   "execution_count": null,
   "metadata": {},
   "outputs": [],
   "source": [
    "# Estrutura de entrada\n",
    "\n",
    "var_a = float(input('Digite o A'))\n",
    "var_b = float(input('Digite o B'))\n",
    "\n",
    "# Estrutura de saída\n",
    "\n",
    "print(f'Valor da Variável a é {var_a}')\n",
    "print(f'Valor da Variável b é {var_b}')\n",
    "\n",
    "# Condição\n",
    "\n",
    "if var_a > var_b:\n",
    "    print('variável a é maior')\n",
    "elif var_a == var_b:\n",
    "    print('São iguais')\n",
    "else:\n",
    "    print('variável b é maior')"
   ]
  }
 ],
 "metadata": {
  "language_info": {
   "name": "python"
  }
 },
 "nbformat": 4,
 "nbformat_minor": 2
}
